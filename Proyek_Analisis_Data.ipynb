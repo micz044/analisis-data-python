{
  "cells": [
    {
      "cell_type": "markdown",
      "metadata": {
        "id": "H9wADwK78DCz"
      },
      "source": [
        "# Proyek Analisis Data: Bike Sharing Dataset\n",
        "- **Nama:** Michael Vincent Efren Malamo\n",
        "- **Email:** alvaromichael044@gmail.com\n",
        "- **ID Dicoding:** --"
      ]
    },
    {
      "cell_type": "markdown",
      "metadata": {
        "id": "eE0raob58DC0"
      },
      "source": [
        "## Menentukan Pertanyaan Bisnis"
      ]
    },
    {
      "cell_type": "markdown",
      "metadata": {
        "id": "GmQeQ5YF8DC0"
      },
      "source": [
        "- Bagaimana pengaruh kondisi cuaca terhadap jumlah pengguna yang menyewa sepeda?\n",
        "- Apakah terdapat pola penggunaan sepeda yang berbeda berdasarkan hari dalam seminggu?"
      ]
    },
    {
      "cell_type": "markdown",
      "metadata": {
        "id": "H-z4QGlO8DC1"
      },
      "source": [
        "## Import Semua Packages/Library yang Digunakan"
      ]
    },
    {
      "cell_type": "code",
      "execution_count": 1,
      "metadata": {
        "colab": {
          "base_uri": "https://localhost:8080/"
        },
        "id": "FVYwaObI8DC1",
        "outputId": "d30ca25a-2997-4b3d-dc55-2013ecc9e3dd"
      },
      "outputs": [],
      "source": [
        "import pandas as pd\n",
        "import matplotlib.pyplot as plt\n",
        "import seaborn as sns\n",
        "import streamlit as st\n",
        "from babel.numbers import format_currency\n",
        "import zipfile\n",
        "sns.set(style='dark')"
      ]
    },
    {
      "cell_type": "markdown",
      "metadata": {
        "id": "h_Sh51Xy8DC1"
      },
      "source": [
        "## Data Wrangling"
      ]
    },
    {
      "cell_type": "markdown",
      "metadata": {
        "id": "FHSiqaZp8DC1"
      },
      "source": [
        "### Gathering Data"
      ]
    },
    {
      "cell_type": "markdown",
      "metadata": {
        "id": "sXU2GBYu8DC1"
      },
      "source": [
        "### Assesing Data"
      ]
    },
    {
      "cell_type": "markdown",
      "metadata": {
        "id": "YPj7fbU7xHai"
      },
      "source": [
        "Kita mengimport dataset yang akan digunakan dalam melakukan analisis data kali ini"
      ]
    },
    {
      "cell_type": "code",
      "execution_count": 5,
      "metadata": {
        "colab": {
          "base_uri": "https://localhost:8080/",
          "height": 321
        },
        "id": "V_2YxQk-th65",
        "outputId": "2d1358ae-a3c0-4244-d55a-8a2262855ce3"
      },
      "outputs": [
        {
          "data": {
            "text/html": [
              "<div>\n",
              "<style scoped>\n",
              "    .dataframe tbody tr th:only-of-type {\n",
              "        vertical-align: middle;\n",
              "    }\n",
              "\n",
              "    .dataframe tbody tr th {\n",
              "        vertical-align: top;\n",
              "    }\n",
              "\n",
              "    .dataframe thead th {\n",
              "        text-align: right;\n",
              "    }\n",
              "</style>\n",
              "<table border=\"1\" class=\"dataframe\">\n",
              "  <thead>\n",
              "    <tr style=\"text-align: right;\">\n",
              "      <th></th>\n",
              "      <th>instant</th>\n",
              "      <th>dteday</th>\n",
              "      <th>season</th>\n",
              "      <th>yr</th>\n",
              "      <th>mnth</th>\n",
              "      <th>hr</th>\n",
              "      <th>holiday</th>\n",
              "      <th>weekday</th>\n",
              "      <th>workingday</th>\n",
              "      <th>weathersit</th>\n",
              "      <th>temp</th>\n",
              "      <th>atemp</th>\n",
              "      <th>hum</th>\n",
              "      <th>windspeed</th>\n",
              "      <th>casual</th>\n",
              "      <th>registered</th>\n",
              "      <th>cnt</th>\n",
              "    </tr>\n",
              "  </thead>\n",
              "  <tbody>\n",
              "    <tr>\n",
              "      <th>0</th>\n",
              "      <td>1</td>\n",
              "      <td>2011-01-01</td>\n",
              "      <td>1</td>\n",
              "      <td>0</td>\n",
              "      <td>1</td>\n",
              "      <td>0</td>\n",
              "      <td>0</td>\n",
              "      <td>6</td>\n",
              "      <td>0</td>\n",
              "      <td>1</td>\n",
              "      <td>0.24</td>\n",
              "      <td>0.2879</td>\n",
              "      <td>0.81</td>\n",
              "      <td>0.0</td>\n",
              "      <td>3</td>\n",
              "      <td>13</td>\n",
              "      <td>16</td>\n",
              "    </tr>\n",
              "    <tr>\n",
              "      <th>1</th>\n",
              "      <td>2</td>\n",
              "      <td>2011-01-01</td>\n",
              "      <td>1</td>\n",
              "      <td>0</td>\n",
              "      <td>1</td>\n",
              "      <td>1</td>\n",
              "      <td>0</td>\n",
              "      <td>6</td>\n",
              "      <td>0</td>\n",
              "      <td>1</td>\n",
              "      <td>0.22</td>\n",
              "      <td>0.2727</td>\n",
              "      <td>0.80</td>\n",
              "      <td>0.0</td>\n",
              "      <td>8</td>\n",
              "      <td>32</td>\n",
              "      <td>40</td>\n",
              "    </tr>\n",
              "    <tr>\n",
              "      <th>2</th>\n",
              "      <td>3</td>\n",
              "      <td>2011-01-01</td>\n",
              "      <td>1</td>\n",
              "      <td>0</td>\n",
              "      <td>1</td>\n",
              "      <td>2</td>\n",
              "      <td>0</td>\n",
              "      <td>6</td>\n",
              "      <td>0</td>\n",
              "      <td>1</td>\n",
              "      <td>0.22</td>\n",
              "      <td>0.2727</td>\n",
              "      <td>0.80</td>\n",
              "      <td>0.0</td>\n",
              "      <td>5</td>\n",
              "      <td>27</td>\n",
              "      <td>32</td>\n",
              "    </tr>\n",
              "    <tr>\n",
              "      <th>3</th>\n",
              "      <td>4</td>\n",
              "      <td>2011-01-01</td>\n",
              "      <td>1</td>\n",
              "      <td>0</td>\n",
              "      <td>1</td>\n",
              "      <td>3</td>\n",
              "      <td>0</td>\n",
              "      <td>6</td>\n",
              "      <td>0</td>\n",
              "      <td>1</td>\n",
              "      <td>0.24</td>\n",
              "      <td>0.2879</td>\n",
              "      <td>0.75</td>\n",
              "      <td>0.0</td>\n",
              "      <td>3</td>\n",
              "      <td>10</td>\n",
              "      <td>13</td>\n",
              "    </tr>\n",
              "    <tr>\n",
              "      <th>4</th>\n",
              "      <td>5</td>\n",
              "      <td>2011-01-01</td>\n",
              "      <td>1</td>\n",
              "      <td>0</td>\n",
              "      <td>1</td>\n",
              "      <td>4</td>\n",
              "      <td>0</td>\n",
              "      <td>6</td>\n",
              "      <td>0</td>\n",
              "      <td>1</td>\n",
              "      <td>0.24</td>\n",
              "      <td>0.2879</td>\n",
              "      <td>0.75</td>\n",
              "      <td>0.0</td>\n",
              "      <td>0</td>\n",
              "      <td>1</td>\n",
              "      <td>1</td>\n",
              "    </tr>\n",
              "  </tbody>\n",
              "</table>\n",
              "</div>"
            ],
            "text/plain": [
              "   instant      dteday  season  yr  mnth  hr  holiday  weekday  workingday  \\\n",
              "0        1  2011-01-01       1   0     1   0        0        6           0   \n",
              "1        2  2011-01-01       1   0     1   1        0        6           0   \n",
              "2        3  2011-01-01       1   0     1   2        0        6           0   \n",
              "3        4  2011-01-01       1   0     1   3        0        6           0   \n",
              "4        5  2011-01-01       1   0     1   4        0        6           0   \n",
              "\n",
              "   weathersit  temp   atemp   hum  windspeed  casual  registered  cnt  \n",
              "0           1  0.24  0.2879  0.81        0.0       3          13   16  \n",
              "1           1  0.22  0.2727  0.80        0.0       8          32   40  \n",
              "2           1  0.22  0.2727  0.80        0.0       5          27   32  \n",
              "3           1  0.24  0.2879  0.75        0.0       3          10   13  \n",
              "4           1  0.24  0.2879  0.75        0.0       0           1    1  "
            ]
          },
          "execution_count": 5,
          "metadata": {},
          "output_type": "execute_result"
        }
      ],
      "source": [
        "# Define the relative paths to the CSV files\n",
        "day_data_path = '../data/day.csv'\n",
        "hour_data_path = '../data/hour.csv'\n",
        "\n",
        "# Load data\n",
        "day_data = pd.read_csv(day_data_path)\n",
        "hour_data = pd.read_csv(hour_data_path)"
      ]
    },
    {
      "cell_type": "code",
      "execution_count": 6,
      "metadata": {
        "id": "gZ4w-aCpxSXP"
      },
      "outputs": [
        {
          "data": {
            "text/html": [
              "<div>\n",
              "<style scoped>\n",
              "    .dataframe tbody tr th:only-of-type {\n",
              "        vertical-align: middle;\n",
              "    }\n",
              "\n",
              "    .dataframe tbody tr th {\n",
              "        vertical-align: top;\n",
              "    }\n",
              "\n",
              "    .dataframe thead th {\n",
              "        text-align: right;\n",
              "    }\n",
              "</style>\n",
              "<table border=\"1\" class=\"dataframe\">\n",
              "  <thead>\n",
              "    <tr style=\"text-align: right;\">\n",
              "      <th></th>\n",
              "      <th>instant</th>\n",
              "      <th>dteday</th>\n",
              "      <th>season</th>\n",
              "      <th>yr</th>\n",
              "      <th>mnth</th>\n",
              "      <th>holiday</th>\n",
              "      <th>weekday</th>\n",
              "      <th>workingday</th>\n",
              "      <th>weathersit</th>\n",
              "      <th>temp</th>\n",
              "      <th>atemp</th>\n",
              "      <th>hum</th>\n",
              "      <th>windspeed</th>\n",
              "      <th>casual</th>\n",
              "      <th>registered</th>\n",
              "      <th>cnt</th>\n",
              "    </tr>\n",
              "  </thead>\n",
              "  <tbody>\n",
              "    <tr>\n",
              "      <th>0</th>\n",
              "      <td>1</td>\n",
              "      <td>2011-01-01</td>\n",
              "      <td>1</td>\n",
              "      <td>0</td>\n",
              "      <td>1</td>\n",
              "      <td>0</td>\n",
              "      <td>6</td>\n",
              "      <td>0</td>\n",
              "      <td>2</td>\n",
              "      <td>0.344167</td>\n",
              "      <td>0.363625</td>\n",
              "      <td>0.805833</td>\n",
              "      <td>0.160446</td>\n",
              "      <td>331</td>\n",
              "      <td>654</td>\n",
              "      <td>985</td>\n",
              "    </tr>\n",
              "    <tr>\n",
              "      <th>1</th>\n",
              "      <td>2</td>\n",
              "      <td>2011-01-02</td>\n",
              "      <td>1</td>\n",
              "      <td>0</td>\n",
              "      <td>1</td>\n",
              "      <td>0</td>\n",
              "      <td>0</td>\n",
              "      <td>0</td>\n",
              "      <td>2</td>\n",
              "      <td>0.363478</td>\n",
              "      <td>0.353739</td>\n",
              "      <td>0.696087</td>\n",
              "      <td>0.248539</td>\n",
              "      <td>131</td>\n",
              "      <td>670</td>\n",
              "      <td>801</td>\n",
              "    </tr>\n",
              "    <tr>\n",
              "      <th>2</th>\n",
              "      <td>3</td>\n",
              "      <td>2011-01-03</td>\n",
              "      <td>1</td>\n",
              "      <td>0</td>\n",
              "      <td>1</td>\n",
              "      <td>0</td>\n",
              "      <td>1</td>\n",
              "      <td>1</td>\n",
              "      <td>1</td>\n",
              "      <td>0.196364</td>\n",
              "      <td>0.189405</td>\n",
              "      <td>0.437273</td>\n",
              "      <td>0.248309</td>\n",
              "      <td>120</td>\n",
              "      <td>1229</td>\n",
              "      <td>1349</td>\n",
              "    </tr>\n",
              "    <tr>\n",
              "      <th>3</th>\n",
              "      <td>4</td>\n",
              "      <td>2011-01-04</td>\n",
              "      <td>1</td>\n",
              "      <td>0</td>\n",
              "      <td>1</td>\n",
              "      <td>0</td>\n",
              "      <td>2</td>\n",
              "      <td>1</td>\n",
              "      <td>1</td>\n",
              "      <td>0.200000</td>\n",
              "      <td>0.212122</td>\n",
              "      <td>0.590435</td>\n",
              "      <td>0.160296</td>\n",
              "      <td>108</td>\n",
              "      <td>1454</td>\n",
              "      <td>1562</td>\n",
              "    </tr>\n",
              "    <tr>\n",
              "      <th>4</th>\n",
              "      <td>5</td>\n",
              "      <td>2011-01-05</td>\n",
              "      <td>1</td>\n",
              "      <td>0</td>\n",
              "      <td>1</td>\n",
              "      <td>0</td>\n",
              "      <td>3</td>\n",
              "      <td>1</td>\n",
              "      <td>1</td>\n",
              "      <td>0.226957</td>\n",
              "      <td>0.229270</td>\n",
              "      <td>0.436957</td>\n",
              "      <td>0.186900</td>\n",
              "      <td>82</td>\n",
              "      <td>1518</td>\n",
              "      <td>1600</td>\n",
              "    </tr>\n",
              "  </tbody>\n",
              "</table>\n",
              "</div>"
            ],
            "text/plain": [
              "   instant      dteday  season  yr  mnth  holiday  weekday  workingday  \\\n",
              "0        1  2011-01-01       1   0     1        0        6           0   \n",
              "1        2  2011-01-02       1   0     1        0        0           0   \n",
              "2        3  2011-01-03       1   0     1        0        1           1   \n",
              "3        4  2011-01-04       1   0     1        0        2           1   \n",
              "4        5  2011-01-05       1   0     1        0        3           1   \n",
              "\n",
              "   weathersit      temp     atemp       hum  windspeed  casual  registered  \\\n",
              "0           2  0.344167  0.363625  0.805833   0.160446     331         654   \n",
              "1           2  0.363478  0.353739  0.696087   0.248539     131         670   \n",
              "2           1  0.196364  0.189405  0.437273   0.248309     120        1229   \n",
              "3           1  0.200000  0.212122  0.590435   0.160296     108        1454   \n",
              "4           1  0.226957  0.229270  0.436957   0.186900      82        1518   \n",
              "\n",
              "    cnt  \n",
              "0   985  \n",
              "1   801  \n",
              "2  1349  \n",
              "3  1562  \n",
              "4  1600  "
            ]
          },
          "execution_count": 6,
          "metadata": {},
          "output_type": "execute_result"
        }
      ],
      "source": [
        "day_data = pd.read_csv(\"day.csv\")\n",
        "day_data.head()"
      ]
    },
    {
      "cell_type": "markdown",
      "metadata": {},
      "source": [
        "Dari data yang ditampilkan, kita dapat melihat struktur dan beberapa kolom dari kedua dataset:\n",
        "\n",
        "day.csv:\n",
        "\n",
        "<ul>\n",
        "<li>instant: ID instan</li>\n",
        "<li>dteday: Tanggal</li>\n",
        "<li>season: Musim (1: musim semi, 2: musim panas, 3: musim gugur, 4: musim dingin)</li>\n",
        "<li>yr: Tahun (0: 2011, 1: 2012)</li>\n",
        "<li>mnth: Bulan</li>\n",
        "<li>holiday: Apakah hari libur atau tidak (0: tidak, 1: ya)</li>\n",
        "<li>weekday: Hari dalam seminggu (0: Minggu, 1: Senin, ..., 6: Sabtu)</li>\n",
        "<li>workingday: Apakah hari kerja atau tidak (0: tidak, 1: ya)</li>\n",
        "<li>weathersit: Situasi cuaca (1: cerah, 2: mendung, 3: hujan)</li>\n",
        "<li>temp: Suhu normal</li>\n",
        "<li>atemp: Suhu terasa</li>\n",
        "<li>hum: Kelembaban</li>\n",
        "<li>windspeed: Kecepatan angin</li>\n",
        "<li>casual: Pengguna casual</li>\n",
        "<li>registered: Pengguna terdaftar</li>\n",
        "<li>cnt: Jumlah total pengguna</li>\n",
        "</ul>\n",
        "\n",
        "hour.csv:\n",
        "\n",
        "Kolom yang sama seperti day.csv dengan tambahan:\n",
        "<ul>\n",
        "<li>hr: Jam</li>\n",
        "<ul>\n"
      ]
    },
    {
      "cell_type": "markdown",
      "metadata": {},
      "source": [
        "### Cleaning Data"
      ]
    },
    {
      "cell_type": "markdown",
      "metadata": {},
      "source": [
        "Pada tahap ini, kita perlu membersihkan data dengan memeriksa nilai-nilai yang hilang, duplikasi, atau anomali lainnya."
      ]
    },
    {
      "cell_type": "code",
      "execution_count": 7,
      "metadata": {},
      "outputs": [
        {
          "name": "stdout",
          "output_type": "stream",
          "text": [
            "instant       0\n",
            "dteday        0\n",
            "season        0\n",
            "yr            0\n",
            "mnth          0\n",
            "holiday       0\n",
            "weekday       0\n",
            "workingday    0\n",
            "weathersit    0\n",
            "temp          0\n",
            "atemp         0\n",
            "hum           0\n",
            "windspeed     0\n",
            "casual        0\n",
            "registered    0\n",
            "cnt           0\n",
            "dtype: int64\n",
            "instant       0\n",
            "dteday        0\n",
            "season        0\n",
            "yr            0\n",
            "mnth          0\n",
            "hr            0\n",
            "holiday       0\n",
            "weekday       0\n",
            "workingday    0\n",
            "weathersit    0\n",
            "temp          0\n",
            "atemp         0\n",
            "hum           0\n",
            "windspeed     0\n",
            "casual        0\n",
            "registered    0\n",
            "cnt           0\n",
            "dtype: int64\n"
          ]
        }
      ],
      "source": [
        "# Cek missing data\n",
        "print(day_data.isnull().sum())\n",
        "print(hour_data.isnull().sum())\n",
        "\n",
        "# drop dupliikat data jika ada\n",
        "day_data = day_data.drop_duplicates()\n",
        "hour_data = hour_data.drop_duplicates()\n"
      ]
    },
    {
      "cell_type": "markdown",
      "metadata": {
        "id": "gp-Y6wU38DC1"
      },
      "source": [
        "## Exploratory Data Analysis (EDA)"
      ]
    },
    {
      "cell_type": "markdown",
      "metadata": {},
      "source": [
        "### Explore ..."
      ]
    },
    {
      "cell_type": "markdown",
      "metadata": {},
      "source": [
        "Pertanyaan Bisnis 1: Bagaimana pengaruh kondisi cuaca terhadap jumlah pengguna yang menyewa sepeda?"
      ]
    },
    {
      "cell_type": "code",
      "execution_count": 8,
      "metadata": {},
      "outputs": [
        {
          "name": "stdout",
          "output_type": "stream",
          "text": [
            "   weathersit          cnt\n",
            "0           1  4876.786177\n",
            "1           2  4035.862348\n",
            "2           3  1803.285714\n",
            "count    731.000000\n",
            "mean       1.395349\n",
            "std        0.544894\n",
            "min        1.000000\n",
            "25%        1.000000\n",
            "50%        1.000000\n",
            "75%        2.000000\n",
            "max        3.000000\n",
            "Name: weathersit, dtype: float64\n"
          ]
        }
      ],
      "source": [
        "# pengelompokan data berdasarkan situasi cuaca\n",
        "weather_group = day_data.groupby('weathersit')['cnt'].mean().reset_index()\n",
        "print(weather_group)\n",
        "\n",
        "# statistik deskriptif untuk situasi cuaca\n",
        "print(day_data['weathersit'].describe())\n"
      ]
    },
    {
      "cell_type": "markdown",
      "metadata": {},
      "source": [
        "Pertanyaan Bisnis 2: Apakah terdapat pola penggunaan sepeda yang berbeda berdasarkan hari dalam seminggu?"
      ]
    },
    {
      "cell_type": "code",
      "execution_count": 9,
      "metadata": {},
      "outputs": [
        {
          "name": "stdout",
          "output_type": "stream",
          "text": [
            "   weekday          cnt\n",
            "0        0  4228.828571\n",
            "1        1  4338.123810\n",
            "2        2  4510.663462\n",
            "3        3  4548.538462\n",
            "4        4  4667.259615\n",
            "5        5  4690.288462\n",
            "6        6  4550.542857\n",
            "count    731.000000\n",
            "mean       2.997264\n",
            "std        2.004787\n",
            "min        0.000000\n",
            "25%        1.000000\n",
            "50%        3.000000\n",
            "75%        5.000000\n",
            "max        6.000000\n",
            "Name: weekday, dtype: float64\n"
          ]
        }
      ],
      "source": [
        "# pengelompokan data berdasarkan weekday\n",
        "weekday_group = day_data.groupby('weekday')['cnt'].mean().reset_index()\n",
        "print(weekday_group)\n",
        "\n",
        "# statistik deskriptif untuk feature weekday\n",
        "print(day_data['weekday'].describe())\n"
      ]
    },
    {
      "cell_type": "markdown",
      "metadata": {
        "id": "zsyZjqak8DC2"
      },
      "source": [
        "## Visualization & Explanatory Analysis"
      ]
    },
    {
      "cell_type": "markdown",
      "metadata": {
        "id": "HZxOiQ6n8DC2"
      },
      "source": [
        "### Pertanyaan 1: Pengaruh Kondisi Cuaca terhadap Jumlah Pengguna?"
      ]
    },
    {
      "cell_type": "code",
      "execution_count": 10,
      "metadata": {
        "id": "1swJUdAD8DC2"
      },
      "outputs": [
        {
          "data": {
            "image/png": "[encoded data removed]",
            "text/plain": [
              "<Figure size 1000x600 with 1 Axes>"
            ]
          },
          "metadata": {},
          "output_type": "display_data"
        }
      ],
      "source": [
        "import matplotlib.pyplot as plt\n",
        "import seaborn as sns\n",
        "# Bar plot untuk situasi cuaca dan jumlah pengguna\n",
        "plt.figure(figsize=(10, 6))\n",
        "sns.barplot(x='weathersit', y='cnt', data=weather_group)\n",
        "plt.title('Rata-rata Jumlah Pengguna Berdasarkan Kondisi Cuaca')\n",
        "plt.xlabel('Kondisi Cuaca')\n",
        "plt.ylabel('Rata-rata Jumlah Pengguna')\n",
        "plt.xticks(ticks=[0, 1, 2], labels=['Cerah', 'Mendung', 'Hujan'])\n",
        "plt.show()\n"
      ]
    },
    {
      "cell_type": "markdown",
      "metadata": {
        "id": "DgHI7CiU8DC2"
      },
      "source": [
        "### Pertanyaan 2: Pola Penggunaan Sepeda Berdasarkan Hari dalam Seminggu?"
      ]
    },
    {
      "cell_type": "code",
      "execution_count": 11,
      "metadata": {
        "id": "Go0lCsvO8DC2"
      },
      "outputs": [
        {
          "data": {
            "image/png": "[encoded data removed]",
            "text/plain": [
              "<Figure size 1000x600 with 1 Axes>"
            ]
          },
          "metadata": {},
          "output_type": "display_data"
        }
      ],
      "source": [
        "# Line plot untuk weekday dan user count\n",
        "plt.figure(figsize=(10, 6))\n",
        "sns.lineplot(x='weekday', y='cnt', data=weekday_group, marker='o')\n",
        "plt.title('Rata-rata Jumlah Pengguna Berdasarkan Hari dalam Seminggu')\n",
        "plt.xlabel('Hari dalam Seminggu')\n",
        "plt.ylabel('Rata-rata Jumlah Pengguna')\n",
        "plt.xticks(ticks=[0, 1, 2, 3, 4, 5, 6], labels=['Minggu', 'Senin', 'Selasa', 'Rabu', 'Kamis', 'Jumat', 'Sabtu'])\n",
        "plt.show()\n"
      ]
    },
    {
      "cell_type": "markdown",
      "metadata": {},
      "source": [
        "### Menggunakan RFM Analysis"
      ]
    },
    {
      "cell_type": "markdown",
      "metadata": {},
      "source": [
        "RFM (Recency, Frequency, Monetary) analysis adalah metode yang digunakan untuk mengelompokkan pengguna berdasarkan tiga metrik utama:\n",
        "\n",
        "<ul>Recency: Mengukur seberapa baru pengguna terakhir kali menggunakan layanan.</ul>\n",
        "<ul>Frequency: Mengukur seberapa sering pengguna menggunakan layanan.</ul>\n",
        "<ul>Monetary: Mengukur total nilai dari transaksi yang dilakukan oleh pengguna.</ul>\n",
        "Dalam konteks data penyewaan sepeda, kita dapat menyesuaikan RFM sebagai berikut:\n",
        "\n",
        "<ul>Recency: Berapa hari sejak terakhir kali pengguna menyewa sepeda.</ul>\n",
        "<ul>Frequency: Jumlah hari aktif yang menunjukkan seberapa sering pengguna menyewa sepeda.</ul>\n",
        "<ul>Monetary: Total jumlah penyewaan sepeda oleh pengguna.</ul>"
      ]
    },
    {
      "cell_type": "code",
      "execution_count": 12,
      "metadata": {},
      "outputs": [
        {
          "name": "stdout",
          "output_type": "stream",
          "text": [
            "   user_id  Recency  Frequency  Monetary\n",
            "0        1      730          1       985\n",
            "1        2      729          1       801\n",
            "2        3      728          1      1349\n",
            "3        4      727          1      1562\n",
            "4        5      726          1      1600\n"
          ]
        }
      ],
      "source": [
        "# kita asumsikan bahwa' instant' mewakili hari yang unik, kita bisa men simulasikan menggunakan feature user_id\n",
        "day_data['user_id'] = day_data.index + 1\n",
        "\n",
        "# Analisis RFM\n",
        "# Recency: Aktivitas hari terakhir\n",
        "# Frequency: Jumlah hari aktif\n",
        "# Monetary: Jumlah total sewa\n",
        "\n",
        "rfm_table = day_data.groupby('user_id').agg({\n",
        "    'dteday': 'max',  # Recency\n",
        "    'instant': 'count',  # Frequency\n",
        "    'cnt': 'sum'  # Monetary\n",
        "}).reset_index()\n",
        "\n",
        "rfm_table.rename(columns={'dteday': 'Recency', 'instant': 'Frequency', 'cnt': 'Monetary'}, inplace=True)\n",
        "\n",
        "# Hitung Keterkinian dalam beberapa hari sejak tanggal terakhir dalam kumpulan data\n",
        "last_date = pd.to_datetime(day_data['dteday']).max()\n",
        "rfm_table['Recency'] = (last_date - pd.to_datetime(rfm_table['Recency'])).dt.days\n",
        "\n",
        "print(rfm_table.head())"
      ]
    },
    {
      "cell_type": "markdown",
      "metadata": {},
      "source": [
        "### Mengimplementasikan Clustering"
      ]
    },
    {
      "cell_type": "markdown",
      "metadata": {},
      "source": [
        "Clustering adalah teknik analisis yang digunakan untuk mengelompokkan data berdasarkan kesamaan. Dalam konteks ini, kita akan menggunakan teknik KMeans untuk mengelompokkan data penyewaan sepeda berdasarkan variabel-variabel seperti suhu (temp), suhu nyata (atemp), kelembaban (hum), kecepatan angin (windspeed), dan total penyewaan sepeda (cnt). Tujuan dari clustering ini adalah untuk menemukan pola atau segmentasi pengguna berdasarkan kondisi-kondisi tersebut."
      ]
    },
    {
      "cell_type": "code",
      "execution_count": 15,
      "metadata": {},
      "outputs": [
        {
          "name": "stdout",
          "output_type": "stream",
          "text": [
            "   cluster      temp     atemp       hum  windspeed          cnt\n",
            "0        0  0.314276  0.309254  0.492299   0.245501  3296.094737\n",
            "1        1  0.383339  0.381294  0.754814   0.168840  3175.031746\n",
            "2        2  0.653304  0.613437  0.632937   0.172414  5870.284091\n"
          ]
        },
        {
          "name": "stderr",
          "output_type": "stream",
          "text": [
            "c:\\Users\\alvar\\AppData\\Local\\Programs\\Python\\Python311\\Lib\\site-packages\\sklearn\\cluster\\_kmeans.py:1416: FutureWarning: The default value of `n_init` will change from 10 to 'auto' in 1.4. Set the value of `n_init` explicitly to suppress the warning\n",
            "  super()._check_params_vs_input(X, default_n_init=10)\n"
          ]
        }
      ],
      "source": [
        "# Clustering\n",
        "# Pastikan semua kolom yang relevan adalah numerik\n",
        "day_data = day_data[['temp', 'atemp', 'hum', 'windspeed', 'cnt']]\n",
        "day_data = day_data.dropna()  # hapus baris dengan nilai yang hilang\n",
        "\n",
        "# Standarisasi fitur\n",
        "scaler = StandardScaler()\n",
        "scaled_features = scaler.fit_transform(day_data)\n",
        "\n",
        "# Menerapkan clustering KMeans\n",
        "kmeans = KMeans(n_clusters=3, random_state=42)\n",
        "day_data['cluster'] = kmeans.fit_predict(scaled_features)\n",
        "cluster_summary = day_data.groupby('cluster').mean().reset_index()\n",
        "print(cluster_summary)"
      ]
    },
    {
      "cell_type": "markdown",
      "metadata": {
        "id": "_WeHlCeX8DC2"
      },
      "source": [
        "## Conclusion"
      ]
    },
    {
      "cell_type": "markdown",
      "metadata": {
        "id": "ZTcyR48Y8DC2"
      },
      "source": [
        "- **Kesimpulan Pertanyaan 1: Pengaruh Kondisi Cuaca terhadap Jumlah Pengguna**\n",
        "Jawab:\n",
        "Berdasarkan visualisasi, dapat disimpulkan bahwa kondisi cuaca sangat mempengaruhi jumlah pengguna yang menyewa sepeda. Pengguna tertinggi terjadi pada kondisi cuaca cerah, sementara pengguna menurun secara signifikan pada kondisi cuaca mendung dan sangat sedikit pada kondisi cuaca hujan.\n",
        "- **Kesimpulan Pertanyaan 2: Pola Penggunaan Sepeda Berdasarkan Hari dalam Seminggu**\n",
        "Jawab:\n",
        "Dari analisis dan visualisasi, kita melihat bahwa penggunaan sepeda cenderung lebih rendah pada hari Minggu dan Senin. Jumlah pengguna meningkat dari Selasa hingga Jumat, dengan puncaknya pada hari Jumat, kemudian sedikit menurun pada hari Sabtu."
      ]
    }
  ],
  "metadata": {
    "colab": {
      "provenance": []
    },
    "kernelspec": {
      "display_name": "Python 3",
      "language": "python",
      "name": "python3"
    },
    "language_info": {
      "codemirror_mode": {
        "name": "ipython",
        "version": 3
      },
      "file_extension": ".py",
      "mimetype": "text/x-python",
      "name": "python",
      "nbconvert_exporter": "python",
      "pygments_lexer": "ipython3",
      "version": "3.11.2"
    },
    "orig_nbformat": 4,
    "vscode": {
      "interpreter": {
        "hash": "972b3bf27e332e87b5379f2791f6ef9dfc79c71018c370b0d7423235e20fe4d7"
      }
    }
  },
  "nbformat": 4,
  "nbformat_minor": 0
}
